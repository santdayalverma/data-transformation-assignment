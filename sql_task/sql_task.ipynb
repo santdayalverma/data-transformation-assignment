{
 "cells": [
  {
   "cell_type": "code",
   "execution_count": 9,
   "id": "243636ae",
   "metadata": {},
   "outputs": [],
   "source": [
    "import pandas as pd\n",
    "import sqlite3"
   ]
  },
  {
   "cell_type": "code",
   "execution_count": 4,
   "id": "4d389042",
   "metadata": {},
   "outputs": [],
   "source": [
    "# Load CSVs\n",
    "day1 = pd.read_csv('products_day1.csv')\n",
    "day2 = pd.read_csv('products_day2.csv')"
   ]
  },
  {
   "cell_type": "code",
   "execution_count": 11,
   "id": "7a912a1a",
   "metadata": {},
   "outputs": [
    {
     "data": {
      "text/plain": [
       "6"
      ]
     },
     "execution_count": 11,
     "metadata": {},
     "output_type": "execute_result"
    }
   ],
   "source": [
    "# Create SQL DB in memory\n",
    "conn = sqlite3.connect(':memory:')\n",
    "day1.to_sql('products_day1', conn, index=False, if_exists='replace')\n",
    "day2.to_sql('products_day2', conn, index=False, if_exists='replace')"
   ]
  },
  {
   "cell_type": "code",
   "execution_count": null,
   "id": "b2d488c2",
   "metadata": {},
   "outputs": [
    {
     "name": "stdout",
     "output_type": "stream",
     "text": [
      "   product_id              name     category  price  stock change_type\n",
      "0         101  Wireless\\n Mouse  Electronics  25.99    120     REMOVED\n",
      "1         102      Water Bottle      Kitchen  10.50    200     REMOVED\n",
      "2         105         Desk Lamp    Furniture  35.00     90     REMOVED\n",
      "3         106          Notebook   Stationery   2.99    300     REMOVED\n",
      "4         101    Wireless Mouse  Electronics  23.99    120       ADDED\n",
      "5         102      Water Bottle      Kitchen  10.50    180       ADDED\n",
      "6         105         Desk Lamp    Furniture  37.00     90       ADDED\n",
      "7         107       Smart Watch    Wearables  99.00     50       ADDED\n"
     ]
    }
   ],
   "source": [
    "# 2.Find Added or Removed Rows\n",
    "\n",
    "# Removed from Day 2\n",
    "removed_query = \"\"\"\n",
    "SELECT *, 'REMOVED' as change_type FROM products_day1\n",
    "EXCEPT\n",
    "SELECT *, 'REMOVED' as change_type FROM products_day2\n",
    "\"\"\"\n",
    "removed_df = pd.read_sql_query(removed_query, conn)\n",
    "\n",
    "# Added in Day 2\n",
    "added_query = \"\"\"\n",
    "SELECT *, 'ADDED' as change_type FROM products_day2\n",
    "EXCEPT\n",
    "SELECT *, 'ADDED' as change_type FROM products_day1\n",
    "\"\"\"\n",
    "added_df = pd.read_sql_query(added_query, conn)\n",
    "\n",
    "# Combine both for full change set\n",
    "changes_df = pd.concat([removed_df, added_df], ignore_index=True)\n",
    "print(changes_df)\n"
   ]
  },
  {
   "cell_type": "code",
   "execution_count": null,
   "id": "a42da9bd",
   "metadata": {},
   "outputs": [
    {
     "name": "stdout",
     "output_type": "stream",
     "text": [
      "   product_id column_changed  old_value  new_value\n",
      "0         101          price      25.99      23.99\n",
      "1         102          stock     200.00     180.00\n",
      "2         105          price      35.00      37.00\n"
     ]
    }
   ],
   "source": [
    "# 3.Column-Level Differences\n",
    "\n",
    "column_diff_query = \"\"\"\n",
    "SELECT a.product_id, 'price' AS column_changed, a.price AS old_value, b.price AS new_value\n",
    "FROM products_day1 a JOIN products_day2 b ON a.product_id = b.product_id\n",
    "WHERE a.price != b.price\n",
    "\n",
    "UNION\n",
    "\n",
    "SELECT a.product_id, 'stock' AS column_changed, a.stock AS old_value, b.stock AS new_value\n",
    "FROM products_day1 a JOIN products_day2 b ON a.product_id = b.product_id\n",
    "WHERE a.stock != b.stock;\n",
    "\"\"\"\n",
    "\n",
    "column_diff_df = pd.read_sql_query(column_diff_query, conn)\n",
    "print(column_diff_df)"
   ]
  },
  {
   "cell_type": "code",
   "execution_count": null,
   "id": "6e456c78",
   "metadata": {},
   "outputs": [],
   "source": []
  }
 ],
 "metadata": {
  "kernelspec": {
   "display_name": "base",
   "language": "python",
   "name": "python3"
  },
  "language_info": {
   "codemirror_mode": {
    "name": "ipython",
    "version": 3
   },
   "file_extension": ".py",
   "mimetype": "text/x-python",
   "name": "python",
   "nbconvert_exporter": "python",
   "pygments_lexer": "ipython3",
   "version": "3.13.2"
  }
 },
 "nbformat": 4,
 "nbformat_minor": 5
}
