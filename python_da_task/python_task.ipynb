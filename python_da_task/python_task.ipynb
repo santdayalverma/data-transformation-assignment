{
 "cells": [
  {
   "cell_type": "code",
   "execution_count": 1,
   "id": "226f013e",
   "metadata": {},
   "outputs": [],
   "source": [
    "import pandas as pd\n",
    "from datetime import datetime\n",
    "\n",
    "def clean_sales_data(df):\n",
    "    df['order_id'] = pd.to_numeric(df['order_id'], errors='coerce').fillna(0).astype(int)\n",
    "    df['product_id'] = pd.to_numeric(df['product_id'], errors='coerce').fillna(0).astype(int)\n",
    "    df['quantity'] = pd.to_numeric(df['quantity'], errors='coerce').fillna(0).astype(int)\n",
    "    df['price_per_unit'] = pd.to_numeric(df['price_per_unit'], errors='coerce').fillna(0.0).astype(float)\n",
    "    df['order_date'] = pd.to_datetime(df['order_date'], errors='coerce')\n",
    "    return df\n"
   ]
  },
  {
   "cell_type": "code",
   "execution_count": 2,
   "id": "d05248b8",
   "metadata": {},
   "outputs": [],
   "source": [
    "def calculate_total_price(row):\n",
    "    return row['quantity'] * row['price_per_unit']"
   ]
  },
  {
   "cell_type": "code",
   "execution_count": 6,
   "id": "609c188e",
   "metadata": {},
   "outputs": [],
   "source": [
    "df = pd.read_csv('raw_sales.csv')\n",
    "df = clean_sales_data(df)\n",
    "df['total_price'] = df.apply(calculate_total_price, axis=1)\n",
    "df.to_csv('cleaned_sales.csv', index=False)"
   ]
  },
  {
   "cell_type": "code",
   "execution_count": null,
   "id": "6be60124",
   "metadata": {},
   "outputs": [],
   "source": []
  }
 ],
 "metadata": {
  "kernelspec": {
   "display_name": "base",
   "language": "python",
   "name": "python3"
  },
  "language_info": {
   "codemirror_mode": {
    "name": "ipython",
    "version": 3
   },
   "file_extension": ".py",
   "mimetype": "text/x-python",
   "name": "python",
   "nbconvert_exporter": "python",
   "pygments_lexer": "ipython3",
   "version": "3.13.2"
  }
 },
 "nbformat": 4,
 "nbformat_minor": 5
}
